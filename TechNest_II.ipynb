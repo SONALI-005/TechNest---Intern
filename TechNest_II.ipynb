{
  "nbformat": 4,
  "nbformat_minor": 0,
  "metadata": {
    "colab": {
      "provenance": []
    },
    "kernelspec": {
      "name": "python3",
      "display_name": "Python 3"
    },
    "language_info": {
      "name": "python"
    }
  },
  "cells": [
    {
      "cell_type": "markdown",
      "source": [
        "# Second Project OPTIMIZATION MODEL"
      ],
      "metadata": {
        "id": "Cc4V5mMX65bH"
      }
    },
    {
      "cell_type": "code",
      "execution_count": 1,
      "metadata": {
        "colab": {
          "base_uri": "https://localhost:8080/"
        },
        "id": "85xjXzKR6ceO",
        "outputId": "9ca5fa4d-6ff2-4d30-a23e-768ca8073a43"
      },
      "outputs": [
        {
          "output_type": "stream",
          "name": "stdout",
          "text": [
            "Collecting pulp\n",
            "  Downloading pulp-3.2.1-py3-none-any.whl.metadata (6.9 kB)\n",
            "Downloading pulp-3.2.1-py3-none-any.whl (16.4 MB)\n",
            "\u001b[2K   \u001b[90m━━━━━━━━━━━━━━━━━━━━━━━━━━━━━━━━━━━━━━━━\u001b[0m \u001b[32m16.4/16.4 MB\u001b[0m \u001b[31m21.4 MB/s\u001b[0m eta \u001b[36m0:00:00\u001b[0m\n",
            "\u001b[?25hInstalling collected packages: pulp\n",
            "Successfully installed pulp-3.2.1\n"
          ]
        }
      ],
      "source": [
        "!pip install pulp"
      ]
    },
    {
      "cell_type": "code",
      "source": [
        "# Import required libraries\n",
        "import pandas as pd\n",
        "import numpy as np\n",
        "from pulp import *\n",
        "\n",
        "# Load dataset\n",
        "df = pd.read_csv('/content/Train.csv')  # Make sure 'Train.csv' is in your working directory\n",
        "\n",
        "# Let's assume the relevant columns are:\n",
        "# 'Warehouse_block', 'Product_importance', 'Demand', 'Weight_in_gms', 'Cost_of_the_Product'\n",
        "\n",
        "# Group and clean data (assumption-based)\n",
        "df = df[['Warehouse_block', 'Product_importance', 'Reached.on.Time_Y.N', 'Weight_in_gms', 'Cost_of_the_Product']].dropna()\n",
        "\n",
        "# Rename columns for clarity to match the original code's logic\n",
        "df = df.rename(columns={'Warehouse_block': 'Warehouse',\n",
        "                        'Product_importance': 'Product Category',\n",
        "                        'Reached.on.Time_Y.N': 'Demand', # Assuming Reached.on.Time_Y.N can be used as a proxy for demand (1 if reached, 0 if not)\n",
        "                        'Weight_in_gms': 'Inventory', # Assuming Weight_in_gms can be used as a proxy for inventory\n",
        "                        'Cost_of_the_Product': 'Shipping Cost'}) # Assuming Cost_of_the_Product can be used as a proxy for shipping cost\n",
        "\n",
        "\n",
        "# Unique warehouses and product categories\n",
        "warehouses = df['Warehouse'].unique()\n",
        "products = df['Product Category'].unique()\n",
        "\n",
        "# Create a dictionary for shipping cost, inventory, and demand\n",
        "shipping_costs = {(w, p): df[(df['Warehouse'] == w) & (df['Product Category'] == p)]['Shipping Cost'].values[0]\n",
        "                  for w in warehouses for p in products if not df[(df['Warehouse'] == w) & (df['Product Category'] == p)].empty}\n",
        "\n",
        "inventory = {w: df[df['Warehouse'] == w]['Inventory'].sum() for w in warehouses}\n",
        "demand = {p: df[df['Product Category'] == p]['Demand'].sum() for p in products}\n",
        "\n",
        "# Initialize LP problem\n",
        "model = LpProblem(\"Supply_Chain_Cost_Minimization\", LpMinimize)\n",
        "\n",
        "# Decision variables: quantity shipped from warehouse w to fulfill product p\n",
        "x = LpVariable.dicts(\"ship_qty\", (warehouses, products), lowBound=0, cat='Continuous')\n",
        "\n",
        "# Objective: Minimize total shipping cost\n",
        "model += lpSum([shipping_costs[w, p] * x[w][p] for w in warehouses for p in products if (w, p) in shipping_costs])\n",
        "\n",
        "# Constraints\n",
        "# 1. Meet product demand\n",
        "for p in products:\n",
        "    model += lpSum([x[w][p] for w in warehouses if (w, p) in shipping_costs]) >= demand[p], f\"Demand_{p}\"\n",
        "\n",
        "# 2. Do not exceed warehouse inventory\n",
        "for w in warehouses:\n",
        "    model += lpSum([x[w][p] for p in products if (w, p) in shipping_costs]) <= inventory[w], f\"Inventory_{w}\"\n",
        "\n",
        "# Solve the model\n",
        "model.solve()\n",
        "\n",
        "# Output results\n",
        "print(\"Status:\", LpStatus[model.status])\n",
        "print(\"Total Minimized Cost:\", value(model.objective))\n",
        "\n",
        "# Show shipment plan\n",
        "for w in warehouses:\n",
        "    for p in products:\n",
        "        if (w, p) in shipping_costs:\n",
        "            shipped_qty = x[w][p].varValue\n",
        "            if shipped_qty > 0:\n",
        "                print(f\"Ship {shipped_qty:.0f} units of {p} from {w}\")"
      ],
      "metadata": {
        "colab": {
          "base_uri": "https://localhost:8080/"
        },
        "id": "bXa0ogrc7Dhd",
        "outputId": "2a1a0648-12c0-404d-f4ba-a4cd3db19ac0"
      },
      "execution_count": 2,
      "outputs": [
        {
          "output_type": "stream",
          "name": "stdout",
          "text": [
            "Status: Optimal\n",
            "Total Minimized Cost: 1028623.0\n",
            "Ship 2807 units of medium from A\n",
            "Ship 3140 units of low from C\n",
            "Ship 616 units of high from C\n"
          ]
        }
      ]
    }
  ]
}